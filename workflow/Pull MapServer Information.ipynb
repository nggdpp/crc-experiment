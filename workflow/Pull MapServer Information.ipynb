{
 "cells": [
  {
   "cell_type": "markdown",
   "metadata": {},
   "source": [
    "# Processing Steps and Discussion\n",
    "An ArcGIS Server in the USGS infrastructure houses a [MapServer service](https://my.usgs.gov/arcgis/rest/services/crcwc/crcwc/MapServer) for the \"CRC Well Catalog (crcwc).\" Along with some supporting layers for a map tool, the service provides two layers, cores and cuttings, that provide the one really useful bit of information we can't get anywhere else, the internal database id property tied to the CRC Library Number (called \"libno\" in cores and \"chlibno\" in cuttings). We need the id value if we are going to assemble the landing page URL for each core/cutting record both as a reference to include in the final ScienceBase Items and to use in scraping related information on thin sections, \"analysis\" files, and photos.\n",
    "\n",
    "We could also make use of the geometry returned by the MapServer as it presumably represents fully validated point locations for the core/cutting items. In looking at the raw data downloaded from the web site initially, we see at least one issue with differing precision in latitude and longitude values, which differ from the coordinates in the MapServer. However, at this point, we really don't know what happened between the actual database records and the ArcGIS instantiation, and the issues in precision don't impact what we need to do from this particular point.\n",
    "\n",
    "Using the ArcGIS MapServer query service, we can pull batches of 1000 records as a time, limited to just the two properties we need, and cache those in MongoDB for later assembly. In this notebook, I laid out a function that exercises the differential logic needed for each service layer, the parameters required for the ArcGIS MapServer REST API, and the HTTP request. The workflow loops over the two layers, assembles the full recordsets, and loads the data to my local MongoDB instance for later processing.\n",
    "\n",
    "# Dependencies\n",
    "The code requires the Python Requests package and PyMongo client, both installed from the Conda-Forge distributions in my case. The MongoDB use here is completely optional. It is a convenience for what I am doing in the data assembly process, but this same idea could be executed with different types of databases or local files read into memory."
   ]
  },
  {
   "cell_type": "code",
   "execution_count": 1,
   "metadata": {},
   "outputs": [],
   "source": [
    "import requests\n",
    "from pymongo import MongoClient\n",
    "\n",
    "mongo_ndc = MongoClient()"
   ]
  },
  {
   "cell_type": "code",
   "execution_count": 2,
   "metadata": {},
   "outputs": [],
   "source": [
    "def crcwc_items_from_mapserver(sample_type=\"core\", record_count=1000, offset=0):\n",
    "    if sample_type == \"core\":\n",
    "        layer = 0\n",
    "        fields = \"id,libno\"\n",
    "    elif sample_type == \"cutting\":\n",
    "        layer = 1\n",
    "        fields = \"id,chlibno\"\n",
    "\n",
    "    params = [\n",
    "        \"where=0%3D0\",\n",
    "        f\"outFields={fields}\",\n",
    "        \"returnGeometry=true\",\n",
    "        \"returnIdsOnly=false\",\n",
    "        \"returnCountOnly=false\",\n",
    "        \"returnZ=false\",\n",
    "        \"returnM=false\",\n",
    "        \"returnDistinctValues=false\",\n",
    "        f\"resultOffset={offset}\",\n",
    "        f\"resultRecordCount={record_count}\",\n",
    "        \"returnExtentsOnly=false\",\n",
    "        \"f=geojson\"\n",
    "    ]\n",
    "\n",
    "    ags_url = f\"https://my.usgs.gov/arcgis/rest/services/crcwc/crcwc/MapServer/{layer}/query?{'&'.join(params)}\"\n",
    "    \n",
    "    response = requests.get(ags_url).json()\n",
    "    \n",
    "    return response"
   ]
  },
  {
   "cell_type": "code",
   "execution_count": 3,
   "metadata": {},
   "outputs": [
    {
     "name": "stdout",
     "output_type": "stream",
     "text": [
      "CPU times: user 2.76 s, sys: 353 ms, total: 3.11 s\n",
      "Wall time: 11min 41s\n"
     ]
    }
   ],
   "source": [
    "%%time\n",
    "for sample_type in [\"core\",\"cutting\"]:\n",
    "    offset = 0\n",
    "    crc_records = list()\n",
    "    server_response = crcwc_items_from_mapserver(sample_type=sample_type, offset=offset)\n",
    "    while len(server_response[\"features\"]) > 0:\n",
    "        crc_records.extend(server_response[\"features\"])\n",
    "        offset += len(server_response[\"features\"])\n",
    "        server_response = crcwc_items_from_mapserver(sample_type=sample_type, offset=offset)\n",
    "        \n",
    "    mongo_ndc.crc[f'{sample_type}s_from_mapserver'].insert_many(crc_records)"
   ]
  },
  {
   "cell_type": "code",
   "execution_count": null,
   "metadata": {},
   "outputs": [],
   "source": []
  }
 ],
 "metadata": {
  "kernelspec": {
   "display_name": "Python 3",
   "language": "python",
   "name": "python3"
  },
  "language_info": {
   "codemirror_mode": {
    "name": "ipython",
    "version": 3
   },
   "file_extension": ".py",
   "mimetype": "text/x-python",
   "name": "python",
   "nbconvert_exporter": "python",
   "pygments_lexer": "ipython3",
   "version": "3.7.3"
  }
 },
 "nbformat": 4,
 "nbformat_minor": 2
}
